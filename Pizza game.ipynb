{
 "cells": [
  {
   "cell_type": "code",
   "execution_count": 2,
   "metadata": {},
   "outputs": [
    {
     "name": "stdout",
     "output_type": "stream",
     "text": [
      "Welcome to pizza game\n",
      "Input the totalno of slices you want(10-13)\n",
      "Total No of Slices are 3\n",
      "Do you want to know rules(y/n) y\n",
      "You Can choose either 1 or 2 piece of pizza,You and Computer will pick the Slice one by one.The one who eats Last Slice/s will win the game.\n",
      "Number of Slice You Eat is 5\n",
      "You Prick!! See the damnn RULES\n",
      "Computer choose 2 slices,You have 6 slices\n"
     ]
    }
   ],
   "source": [
    "print(\"Welcome to pizza game\")\n",
    "print(\"Input the totalno of slices you want(10-13)\")\n",
    "a =int(input(\"Total No of Slices are \"))\n",
    "b=input(\"Do you want to know rules(y/n) \" )\n",
    "if b== \"y\":\n",
    "    print(\"You Can choose either 1 or 2 piece of pizza,You and Computer will pick the Slice one by one.The one who eats Last Slice/s will win the game.\")\n",
    "if b==\"n\":\n",
    "    print(\"Good Luck\")\n",
    "    \n",
    "if a==10:\n",
    "    print(\"Comp eats 1 slice,Now 9 Slices Left\")\n",
    "c=int(input(\"Number of Slice You Eat is \"))\n",
    "d=9-c\n",
    "if c>0 and c<3:\n",
    "    print(\"Computer Has %d Slices.Computer is processing.....\"%(d))\n",
    "else:\n",
    "    print(\"You Prick!! See the damnn RULES\")\n",
    "                                                #// we have to use break//\n",
    "if d%2==0:\n",
    "    print(\"Computer choose 2 slices,You have 6 slices\")\n",
    "else:\n",
    "    print(\"Computer choose 1 slices,You have 6 slices\")\n",
    "\n",
    "\n",
    "   \n"
   ]
  },
  {
   "cell_type": "code",
   "execution_count": null,
   "metadata": {},
   "outputs": [],
   "source": []
  }
 ],
 "metadata": {
  "kernelspec": {
   "display_name": "Python 3",
   "language": "python",
   "name": "python3"
  },
  "language_info": {
   "codemirror_mode": {
    "name": "ipython",
    "version": 3
   },
   "file_extension": ".py",
   "mimetype": "text/x-python",
   "name": "python",
   "nbconvert_exporter": "python",
   "pygments_lexer": "ipython3",
   "version": "3.7.0"
  }
 },
 "nbformat": 4,
 "nbformat_minor": 2
}
